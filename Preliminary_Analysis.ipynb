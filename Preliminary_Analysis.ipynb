{
 "cells": [
  {
   "cell_type": "markdown",
   "id": "bdb6248c-706f-4644-bf28-ea4db66a98b9",
   "metadata": {},
   "source": [
    "# Preliminary Analysis\n",
    "\n",
    "In this preliminary analysis, I used a linear regression model to explore whether sexuality has an effect on life satisfaction. Specifically, I estimated the model $Y_i = \\beta_0 + \\beta_1 S_i + \\alpha X_i + \\epsilon_i$, where $Y_i$ is \"satisfaction with life in general\" and $S_i$ is \"sex\"* in the Canadian Community Health Survey (CCHS) data. I also included \"emotional bond with more than 1 person\" denoted by $X_i$ as the control variable in the model.\n",
    "\n",
    "In the first stage, I set $\\alpha = 0$, using a simple regression model to see if there is a relationship between sex and life satisfaction without controlling the other variable. In the next stage, I included $X_i$ into the model.\n",
    "\n",
    "The statistical result suggested that sex may not have an effect on the life satisfaction, while the emotional bond seems to have a noticeable effect on the outcome.\n",
    "\n",
    "*It may be preferred to use \"gender\" as the variable in interest, but the CCHS data set does not provide such.\n",
    "\n",
    "## Data Features\n",
    "- The variable \"satisfaction with life in general\" is quantitative and ranges from 0 (Very dissatisfied) to 10 (Very satisfied). \n",
    "- The variable \"sex\" is a dummy variable.\n",
    "- \"Emotional bond with more than 1 person\" is on likert scale and includes 4 levels - strongly disagree, disagree, agree and strongly agree.\n",
    "\n",
    "## Stage 1: Simple Regression\n",
    "### Data Cleaning"
   ]
  },
  {
   "cell_type": "code",
   "execution_count": 1,
   "id": "ec7090b9-5adf-4252-90e5-7017a114113e",
   "metadata": {},
   "outputs": [
    {
     "name": "stderr",
     "output_type": "stream",
     "text": [
      "── \u001b[1mAttaching packages\u001b[22m ─────────────────────────────────────── tidyverse 1.3.1 ──\n",
      "\n",
      "\u001b[32m✔\u001b[39m \u001b[34mggplot2\u001b[39m 3.3.6     \u001b[32m✔\u001b[39m \u001b[34mpurrr  \u001b[39m 0.3.4\n",
      "\u001b[32m✔\u001b[39m \u001b[34mtibble \u001b[39m 3.1.8     \u001b[32m✔\u001b[39m \u001b[34mdplyr  \u001b[39m 1.0.9\n",
      "\u001b[32m✔\u001b[39m \u001b[34mtidyr  \u001b[39m 1.2.0     \u001b[32m✔\u001b[39m \u001b[34mstringr\u001b[39m 1.4.0\n",
      "\u001b[32m✔\u001b[39m \u001b[34mreadr  \u001b[39m 2.1.2     \u001b[32m✔\u001b[39m \u001b[34mforcats\u001b[39m 0.5.1\n",
      "\n",
      "Warning message:\n",
      "“package ‘ggplot2’ was built under R version 4.1.3”\n",
      "Warning message:\n",
      "“package ‘tidyr’ was built under R version 4.1.2”\n",
      "Warning message:\n",
      "“package ‘readr’ was built under R version 4.1.2”\n",
      "Warning message:\n",
      "“package ‘dplyr’ was built under R version 4.1.3”\n",
      "── \u001b[1mConflicts\u001b[22m ────────────────────────────────────────── tidyverse_conflicts() ──\n",
      "\u001b[31m✖\u001b[39m \u001b[34mdplyr\u001b[39m::\u001b[32mfilter()\u001b[39m masks \u001b[34mstats\u001b[39m::filter()\n",
      "\u001b[31m✖\u001b[39m \u001b[34mdplyr\u001b[39m::\u001b[32mlag()\u001b[39m    masks \u001b[34mstats\u001b[39m::lag()\n",
      "\n",
      "Warning message:\n",
      "“package ‘haven’ was built under R version 4.1.3”\n"
     ]
    }
   ],
   "source": [
    "library(tidyverse)\n",
    "library(haven)"
   ]
  },
  {
   "cell_type": "code",
   "execution_count": 2,
   "id": "e0a39411-77ee-474d-a6c3-875efde5604d",
   "metadata": {},
   "outputs": [],
   "source": [
    "data <- read_dta(\"data/CCHS_Annual_2017_2018_curated_trimmed_25%.dta\") |>\n",
    "    select(GEN_010, DHH_SEX, SPS_040) |>\n",
    "    na.omit() |>\n",
    "    rename(satisfaction = GEN_010, sex = DHH_SEX, emo_bond = SPS_040) |>\n",
    "    filter(emo_bond <= 4) |>\n",
    "    mutate(sex = as_factor(sex),\n",
    "           emo_bond = as_factor(emo_bond))"
   ]
  },
  {
   "cell_type": "markdown",
   "id": "79fb0db5-7c15-4a1e-9613-7605706f9d67",
   "metadata": {},
   "source": [
    "### t-test"
   ]
  },
  {
   "cell_type": "markdown",
   "id": "c9f549b4-caa6-403b-a50e-223f5eba2a19",
   "metadata": {},
   "source": [
    "First, use a t-test to estimate the difference in average $Y_i$ for the two levels of $S_i$."
   ]
  },
  {
   "cell_type": "code",
   "execution_count": 3,
   "id": "7f69b5df-8ab7-4f1e-b0ef-d571bcfdc157",
   "metadata": {},
   "outputs": [
    {
     "data": {
      "text/plain": [
       "\n",
       "\tWelch Two Sample t-test\n",
       "\n",
       "data:  filter(data, sex == \"Male\")$satisfaction and filter(data, sex == \"Female\")$satisfaction\n",
       "t = -2.2037, df = 7944.7, p-value = 0.02757\n",
       "alternative hypothesis: true difference in means is not equal to 0\n",
       "95 percent confidence interval:\n",
       " -0.156510465 -0.009150901\n",
       "sample estimates:\n",
       "mean of x mean of y \n",
       " 7.985047  8.067877 \n"
      ]
     },
     "metadata": {},
     "output_type": "display_data"
    },
    {
     "data": {
      "text/html": [
       "<strong>mean of x:</strong> -0.083"
      ],
      "text/latex": [
       "\\textbf{mean of x:} -0.083"
      ],
      "text/markdown": [
       "**mean of x:** -0.083"
      ],
      "text/plain": [
       "mean of x \n",
       "   -0.083 "
      ]
     },
     "metadata": {},
     "output_type": "display_data"
    }
   ],
   "source": [
    "t1 = t.test(\n",
    "       x = filter(data, sex == \"Male\")$satisfaction,\n",
    "       y = filter(data, sex == \"Female\")$satisfaction,\n",
    "       alternative = \"two.sided\",\n",
    "       mu = 0,\n",
    "       conf.level = 0.95)\n",
    "\n",
    "t1 \n",
    "\n",
    "round(t1$estimate[1] - t1$estimate[2], 3)"
   ]
  },
  {
   "cell_type": "markdown",
   "id": "0b0a4138-217d-4151-be13-737219626a23",
   "metadata": {},
   "source": [
    "From the results of the t-test, we can reject the null hypothesis and infer that there is a significant difference in satisfaction with life for males and for females in a 95% confidence level (p-value < 0.05). The sex-satisfaction gap is -0.083: on average, males tend to have a slightly lower satisfaction level than females."
   ]
  },
  {
   "cell_type": "markdown",
   "id": "d0f09f3d-ba8a-4f5b-b27b-984ed716170b",
   "metadata": {},
   "source": [
    "### Estimation of Simple Regression Model"
   ]
  },
  {
   "cell_type": "code",
   "execution_count": 4,
   "id": "16a817ca-9181-4d36-b0cc-a6906b8a949c",
   "metadata": {},
   "outputs": [
    {
     "data": {
      "text/plain": [
       "\n",
       "Call:\n",
       "lm(formula = satisfaction ~ sex, data = data)\n",
       "\n",
       "Residuals:\n",
       "   Min     1Q Median     3Q    Max \n",
       "-8.068 -0.985  0.015  1.015  2.015 \n",
       "\n",
       "Coefficients:\n",
       "            Estimate Std. Error t value Pr(>|t|)    \n",
       "(Intercept)  7.98505    0.02764 288.908   <2e-16 ***\n",
       "sexFemale    0.08283    0.03759   2.203   0.0276 *  \n",
       "---\n",
       "Signif. codes:  0 ‘***’ 0.001 ‘**’ 0.01 ‘*’ 0.05 ‘.’ 0.1 ‘ ’ 1\n",
       "\n",
       "Residual standard error: 1.691 on 8148 degrees of freedom\n",
       "Multiple R-squared:  0.0005954,\tAdjusted R-squared:  0.0004728 \n",
       "F-statistic: 4.854 on 1 and 8148 DF,  p-value: 0.0276\n"
      ]
     },
     "metadata": {},
     "output_type": "display_data"
    }
   ],
   "source": [
    "regression1 <- lm(satisfaction ~ sex, data = data)\n",
    "\n",
    "summary(regression1)"
   ]
  },
  {
   "cell_type": "markdown",
   "id": "bb36185a-e1f8-4087-8d78-76193184154b",
   "metadata": {},
   "source": [
    "The coefficient on x is 0.08283."
   ]
  },
  {
   "cell_type": "markdown",
   "id": "ed62f1ea-b944-4d0d-afed-5637fd4a35c6",
   "metadata": {},
   "source": [
    "## Stage 2: Take the Control Variable into the Model"
   ]
  },
  {
   "cell_type": "code",
   "execution_count": 5,
   "id": "3ad7720f-86e5-47b2-91bd-7e0b7ecd9147",
   "metadata": {},
   "outputs": [
    {
     "data": {
      "text/plain": [
       "\n",
       "Call:\n",
       "lm(formula = satisfaction ~ sex + emo_bond, data = data)\n",
       "\n",
       "Residuals:\n",
       "    Min      1Q  Median      3Q     Max \n",
       "-8.3452 -0.7000  0.2927  1.3000  4.3572 \n",
       "\n",
       "Coefficients:\n",
       "                           Estimate Std. Error t value Pr(>|t|)    \n",
       "(Intercept)                8.345151   0.031913 261.500   <2e-16 ***\n",
       "sexFemale                 -0.007252   0.036577  -0.198    0.843    \n",
       "emo_bondAgree             -0.637879   0.037920 -16.822   <2e-16 ***\n",
       "emo_bondDisagree          -1.718779   0.102462 -16.775   <2e-16 ***\n",
       "emo_bondStrongly disagree -2.695106   0.281682  -9.568   <2e-16 ***\n",
       "---\n",
       "Signif. codes:  0 ‘***’ 0.001 ‘**’ 0.01 ‘*’ 0.05 ‘.’ 0.1 ‘ ’ 1\n",
       "\n",
       "Residual standard error: 1.636 on 8145 degrees of freedom\n",
       "Multiple R-squared:  0.06508,\tAdjusted R-squared:  0.06463 \n",
       "F-statistic: 141.8 on 4 and 8145 DF,  p-value: < 2.2e-16\n"
      ]
     },
     "metadata": {},
     "output_type": "display_data"
    }
   ],
   "source": [
    "regression2 <- lm(satisfaction ~ sex + emo_bond, data = data)\n",
    "\n",
    "summary(regression2)"
   ]
  },
  {
   "cell_type": "markdown",
   "id": "ea75d6ad-a609-4e47-b84c-e6c6da0524da",
   "metadata": {},
   "source": [
    "As we took the \"emotional bond\" variable into the model, the absolute value of the coefficient on $X_i$ decreases from 0.083 to 0.007, and the new coefficient is not statistically significant with a 95% confidence level."
   ]
  },
  {
   "cell_type": "markdown",
   "id": "a8f6724a-071c-4994-894f-169b3277ebae",
   "metadata": {},
   "source": [
    "## Conclusion\n",
    "While we control for another variable such as the \"emotional bond,\" the coefficient measures the pure effect (relative to the without-control case) of sex on satisfaction with life. The statistical test (p-value > 0.05) suggests a difference of life satisfaction level in means may not exist by sexual groups.\n",
    "\n",
    "However, the coefficients on different levels of \"emotional bond\" are all statistically significant and tend to decrease as people perceive less emotional bond with others. This suggests a promising relationship between emotional bond and life satisfaction, which we will focus more on in the final project."
   ]
  },
  {
   "cell_type": "code",
   "execution_count": null,
   "id": "bebba62d-771c-44bd-b1f8-fc254059132f",
   "metadata": {},
   "outputs": [],
   "source": []
  }
 ],
 "metadata": {
  "kernelspec": {
   "display_name": "R",
   "language": "R",
   "name": "ir"
  },
  "language_info": {
   "codemirror_mode": "r",
   "file_extension": ".r",
   "mimetype": "text/x-r-source",
   "name": "R",
   "pygments_lexer": "r",
   "version": "4.1.1"
  }
 },
 "nbformat": 4,
 "nbformat_minor": 5
}
