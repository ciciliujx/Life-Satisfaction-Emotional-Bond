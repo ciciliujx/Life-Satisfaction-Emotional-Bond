{
 "cells": [
  {
   "cell_type": "markdown",
   "id": "69e0e34d-9281-43e2-b73b-8a7cab1552c1",
   "metadata": {},
   "source": [
    "# Final Proposal (Summary Statistics)"
   ]
  },
  {
   "cell_type": "markdown",
   "id": "d3a355c9-c6ad-4faa-9078-63583941b021",
   "metadata": {},
   "source": [
    "## Data Cleaning"
   ]
  },
  {
   "cell_type": "code",
   "execution_count": 1,
   "id": "58a3a64e-3818-49a5-8eac-f21c3d93f41c",
   "metadata": {},
   "outputs": [
    {
     "name": "stderr",
     "output_type": "stream",
     "text": [
      "── \u001b[1mAttaching packages\u001b[22m ─────────────────────────────────────── tidyverse 1.3.1 ──\n",
      "\n",
      "\u001b[32m✔\u001b[39m \u001b[34mggplot2\u001b[39m 3.3.6     \u001b[32m✔\u001b[39m \u001b[34mpurrr  \u001b[39m 0.3.4\n",
      "\u001b[32m✔\u001b[39m \u001b[34mtibble \u001b[39m 3.1.8     \u001b[32m✔\u001b[39m \u001b[34mdplyr  \u001b[39m 1.0.9\n",
      "\u001b[32m✔\u001b[39m \u001b[34mtidyr  \u001b[39m 1.2.0     \u001b[32m✔\u001b[39m \u001b[34mstringr\u001b[39m 1.4.0\n",
      "\u001b[32m✔\u001b[39m \u001b[34mreadr  \u001b[39m 2.1.2     \u001b[32m✔\u001b[39m \u001b[34mforcats\u001b[39m 0.5.1\n",
      "\n",
      "Warning message:\n",
      "“package ‘ggplot2’ was built under R version 4.1.3”\n",
      "Warning message:\n",
      "“package ‘tidyr’ was built under R version 4.1.2”\n",
      "Warning message:\n",
      "“package ‘readr’ was built under R version 4.1.2”\n",
      "Warning message:\n",
      "“package ‘dplyr’ was built under R version 4.1.3”\n",
      "── \u001b[1mConflicts\u001b[22m ────────────────────────────────────────── tidyverse_conflicts() ──\n",
      "\u001b[31m✖\u001b[39m \u001b[34mdplyr\u001b[39m::\u001b[32mfilter()\u001b[39m masks \u001b[34mstats\u001b[39m::filter()\n",
      "\u001b[31m✖\u001b[39m \u001b[34mdplyr\u001b[39m::\u001b[32mlag()\u001b[39m    masks \u001b[34mstats\u001b[39m::lag()\n",
      "\n",
      "Warning message:\n",
      "“package ‘haven’ was built under R version 4.1.3”\n"
     ]
    }
   ],
   "source": [
    "library(tidyverse)\n",
    "library(haven)"
   ]
  },
  {
   "cell_type": "code",
   "execution_count": 2,
   "id": "cb5060f1-f185-498d-a238-3f541707c636",
   "metadata": {},
   "outputs": [],
   "source": [
    "dat <- read_dta(\"CCHS_Annual_2017_2018_curated_trimmed_25%.dta\") |> \n",
    "    select(GEN_010, SPS_040, dhhgage, DHH_SEX, dhhdglvg) |>\n",
    "    na.omit()"
   ]
  },
  {
   "cell_type": "code",
   "execution_count": 3,
   "id": "94b58ec6-716b-4203-a834-26cd2082dbf1",
   "metadata": {},
   "outputs": [],
   "source": [
    "dat_cleaned <- dat |>\n",
    "    rename(satisfaction = GEN_010, emo_bond = SPS_040, age = dhhgage, sex = DHH_SEX, family = dhhdglvg) |>\n",
    "    filter(satisfaction < 11 & emo_bond <= 4 & age <= 16 & sex <= 2 & family <= 8) |> #filter out invalid values\n",
    "    mutate(sex = as_factor(sex),\n",
    "           emo_bond = as_factor(emo_bond),\n",
    "         family = as_factor(family),\n",
    "         age = as_factor(age))"
   ]
  },
  {
   "cell_type": "markdown",
   "id": "9d9f2840-a53e-4a88-b291-89f5f74a43b8",
   "metadata": {},
   "source": [
    "We will take the midpoint of each age group and treat it as a quantitative variable."
   ]
  },
  {
   "cell_type": "code",
   "execution_count": 4,
   "id": "9c299d63-c7ba-4288-9b84-ca8c236ed3de",
   "metadata": {},
   "outputs": [],
   "source": [
    "dat_cleaned$age <- case_when(dat_cleaned$age == \"Age between 12 and 14\" ~ 13,\n",
    "                            dat_cleaned$age == \"Age between 15 and 17\" ~ 16,\n",
    "                            dat_cleaned$age == \"Age between 18 and 19\" ~ 18.5,\n",
    "                            dat_cleaned$age == \"Age between 20 and 24\" ~ 22,\n",
    "                            dat_cleaned$age == \"Age between 25 and 29\" ~ 27,\n",
    "                            dat_cleaned$age == \"Age between 30 and 34\" ~ 32,\n",
    "                            dat_cleaned$age == \"Age between 35 and 39\" ~ 37,\n",
    "                            dat_cleaned$age == \"Age between 40 and 44\" ~ 42,\n",
    "                            dat_cleaned$age == \"Age between 45 and 49\" ~ 47,\n",
    "                            dat_cleaned$age == \"Age between 50 and 54\" ~ 52,\n",
    "                            dat_cleaned$age == \"Age between 55 and 59\" ~ 57,\n",
    "                            dat_cleaned$age == \"Age between 60 and 64\" ~ 62,\n",
    "                            dat_cleaned$age == \"Age between 65 and 69\" ~ 67,\n",
    "                            dat_cleaned$age == \"Age between 70 and 74\" ~ 72,\n",
    "                            dat_cleaned$age == \"Age between 75 and 79\" ~ 77,\n",
    "                            dat_cleaned$age == \"Age 80 and older\" ~ 80\n",
    ")"
   ]
  },
  {
   "cell_type": "markdown",
   "id": "71f220b5-c6ed-4f9c-8241-4713f3cecac9",
   "metadata": {},
   "source": [
    "## Summary Statistics"
   ]
  },
  {
   "cell_type": "code",
   "execution_count": 5,
   "id": "b0cf973e-f33e-47de-bda9-80bde2e69316",
   "metadata": {},
   "outputs": [],
   "source": [
    "data_destat <- dat_cleaned |>\n",
    "    mutate(\"female\" = ifelse(sex == \"Male\", 0, 1),\n",
    "           emo_bond_strongly_agree = ifelse(emo_bond == \"Strongly agree\", 1, 0),\n",
    "           emo_bond_agree = ifelse(emo_bond == \"Agree\", 1, 0),\n",
    "           emo_bond_disagree = ifelse(emo_bond == \"Disagree\", 1, 0),\n",
    "          \"Unattached individual living alone\" = \n",
    "               ifelse(family == \"Unattached individual living alone.\", 1, 0),\n",
    "          \"Unattached individual living with others\" = \n",
    "               ifelse(family == \"Unattached individual living with others.\", 1, 0),\n",
    "          \"Individual living with spouse/partner\" = \n",
    "               ifelse(family == \"Individual living with spouse/partner.\", 1, 0),\n",
    "          \"Parent living with spouse/partner and child(ren)\" = \n",
    "               ifelse(family == \"Parent living with spouse/partner and child(ren).\", 1, 0),\n",
    "          \"Single parent living with children\" = \n",
    "               ifelse(family == \"Single parent living with children.\", 1, 0),\n",
    "          \"Child living with a single parent with or without siblings\" = \n",
    "               ifelse(family == \"Child living with a single parent with or without siblings.\", 1, 0),\n",
    "          \"Child living with two parents with or without siblings\" = \n",
    "               ifelse(family == \"Child living with two parents with or without siblings\", 1, 0))"
   ]
  },
  {
   "cell_type": "code",
   "execution_count": 6,
   "id": "375a496b-c3ef-46e7-b940-09ca5d3810ac",
   "metadata": {},
   "outputs": [],
   "source": [
    "mean_table <- data_destat |>\n",
    "    select(-c(\"sex\", \"emo_bond\", \"family\")) |>\n",
    "    summarize_all(mean)\n",
    "\n",
    "sd_table <- data_destat |>\n",
    "    select(-c(\"sex\", \"emo_bond\", \"family\")) |>\n",
    "    summarize_all(sd)\n",
    "\n",
    "max_table <- data_destat |>\n",
    "    select(-c(\"sex\", \"emo_bond\", \"family\")) |>\n",
    "    summarize_all(max)\n",
    "\n",
    "min_table <- data_destat |>\n",
    "    select(-c(\"sex\", \"emo_bond\", \"family\")) |>\n",
    "    summarize_all(min)\n",
    "\n",
    "summary_table <- rbind(mean_table, sd_table, max_table, min_table) |>\n",
    "    rename(\"satisfaction with life in general\" = satisfaction,\n",
    "           \"strong emotional bond with >= 1 person (strongly agree)\" = emo_bond_strongly_agree,\n",
    "           \"strong emotional bond with >= 1 person (agree)\" = emo_bond_agree,\n",
    "           \"strong emotional bond with >= 1 person (disagree)\" = emo_bond_disagree)\n",
    "\n",
    "summary_table <- t(summary_table)\n",
    "\n",
    "colnames(summary_table) <- c(\"mean\", \"standard deviation\", \"max\", \"min\")"
   ]
  },
  {
   "cell_type": "code",
   "execution_count": 7,
   "id": "1418e200-b439-491a-b36b-cf8ad16d6eaa",
   "metadata": {},
   "outputs": [
    {
     "data": {
      "text/html": [
       "<table class=\"dataframe\">\n",
       "<caption>A matrix: 13 × 4 of type dbl</caption>\n",
       "<thead>\n",
       "\t<tr><th></th><th scope=col>mean</th><th scope=col>standard deviation</th><th scope=col>max</th><th scope=col>min</th></tr>\n",
       "</thead>\n",
       "<tbody>\n",
       "\t<tr><th scope=row>satisfaction with life in general</th><td> 8.03062731</td><td> 1.6924781</td><td>10</td><td> 0</td></tr>\n",
       "\t<tr><th scope=row>age</th><td>48.54778598</td><td>19.5925424</td><td>80</td><td>13</td></tr>\n",
       "\t<tr><th scope=row>female</th><td> 0.54059041</td><td> 0.4983803</td><td> 1</td><td> 0</td></tr>\n",
       "\t<tr><th scope=row>strong emotional bond with &gt;= 1 person (strongly agree)</th><td> 0.58154982</td><td> 0.4933351</td><td> 1</td><td> 0</td></tr>\n",
       "\t<tr><th scope=row>strong emotional bond with &gt;= 1 person (agree)</th><td> 0.38093481</td><td> 0.4856465</td><td> 1</td><td> 0</td></tr>\n",
       "\t<tr><th scope=row>strong emotional bond with &gt;= 1 person (disagree)</th><td> 0.03333333</td><td> 0.1795165</td><td> 1</td><td> 0</td></tr>\n",
       "\t<tr><th scope=row>Unattached individual living alone</th><td> 0.27982780</td><td> 0.4489421</td><td> 1</td><td> 0</td></tr>\n",
       "\t<tr><th scope=row>Unattached individual living with others</th><td> 0.03677737</td><td> 0.1882263</td><td> 1</td><td> 0</td></tr>\n",
       "\t<tr><th scope=row>Individual living with spouse/partner</th><td> 0.28979090</td><td> 0.4536931</td><td> 1</td><td> 0</td></tr>\n",
       "\t<tr><th scope=row>Parent living with spouse/partner and child(ren)</th><td> 0.18733087</td><td> 0.3902009</td><td> 1</td><td> 0</td></tr>\n",
       "\t<tr><th scope=row>Single parent living with children</th><td> 0.04354244</td><td> 0.2040873</td><td> 1</td><td> 0</td></tr>\n",
       "\t<tr><th scope=row>Child living with a single parent with or without siblings</th><td> 0.02361624</td><td> 0.1518596</td><td> 1</td><td> 0</td></tr>\n",
       "\t<tr><th scope=row>Child living with two parents with or without siblings</th><td> 0.09335793</td><td> 0.2909513</td><td> 1</td><td> 0</td></tr>\n",
       "</tbody>\n",
       "</table>\n"
      ],
      "text/latex": [
       "A matrix: 13 × 4 of type dbl\n",
       "\\begin{tabular}{r|llll}\n",
       "  & mean & standard deviation & max & min\\\\\n",
       "\\hline\n",
       "\tsatisfaction with life in general &  8.03062731 &  1.6924781 & 10 &  0\\\\\n",
       "\tage & 48.54778598 & 19.5925424 & 80 & 13\\\\\n",
       "\tfemale &  0.54059041 &  0.4983803 &  1 &  0\\\\\n",
       "\tstrong emotional bond with >= 1 person (strongly agree) &  0.58154982 &  0.4933351 &  1 &  0\\\\\n",
       "\tstrong emotional bond with >= 1 person (agree) &  0.38093481 &  0.4856465 &  1 &  0\\\\\n",
       "\tstrong emotional bond with >= 1 person (disagree) &  0.03333333 &  0.1795165 &  1 &  0\\\\\n",
       "\tUnattached individual living alone &  0.27982780 &  0.4489421 &  1 &  0\\\\\n",
       "\tUnattached individual living with others &  0.03677737 &  0.1882263 &  1 &  0\\\\\n",
       "\tIndividual living with spouse/partner &  0.28979090 &  0.4536931 &  1 &  0\\\\\n",
       "\tParent living with spouse/partner and child(ren) &  0.18733087 &  0.3902009 &  1 &  0\\\\\n",
       "\tSingle parent living with children &  0.04354244 &  0.2040873 &  1 &  0\\\\\n",
       "\tChild living with a single parent with or without siblings &  0.02361624 &  0.1518596 &  1 &  0\\\\\n",
       "\tChild living with two parents with or without siblings &  0.09335793 &  0.2909513 &  1 &  0\\\\\n",
       "\\end{tabular}\n"
      ],
      "text/markdown": [
       "\n",
       "A matrix: 13 × 4 of type dbl\n",
       "\n",
       "| <!--/--> | mean | standard deviation | max | min |\n",
       "|---|---|---|---|---|\n",
       "| satisfaction with life in general |  8.03062731 |  1.6924781 | 10 |  0 |\n",
       "| age | 48.54778598 | 19.5925424 | 80 | 13 |\n",
       "| female |  0.54059041 |  0.4983803 |  1 |  0 |\n",
       "| strong emotional bond with &gt;= 1 person (strongly agree) |  0.58154982 |  0.4933351 |  1 |  0 |\n",
       "| strong emotional bond with &gt;= 1 person (agree) |  0.38093481 |  0.4856465 |  1 |  0 |\n",
       "| strong emotional bond with &gt;= 1 person (disagree) |  0.03333333 |  0.1795165 |  1 |  0 |\n",
       "| Unattached individual living alone |  0.27982780 |  0.4489421 |  1 |  0 |\n",
       "| Unattached individual living with others |  0.03677737 |  0.1882263 |  1 |  0 |\n",
       "| Individual living with spouse/partner |  0.28979090 |  0.4536931 |  1 |  0 |\n",
       "| Parent living with spouse/partner and child(ren) |  0.18733087 |  0.3902009 |  1 |  0 |\n",
       "| Single parent living with children |  0.04354244 |  0.2040873 |  1 |  0 |\n",
       "| Child living with a single parent with or without siblings |  0.02361624 |  0.1518596 |  1 |  0 |\n",
       "| Child living with two parents with or without siblings |  0.09335793 |  0.2909513 |  1 |  0 |\n",
       "\n"
      ],
      "text/plain": [
       "                                                           mean       \n",
       "satisfaction with life in general                           8.03062731\n",
       "age                                                        48.54778598\n",
       "female                                                      0.54059041\n",
       "strong emotional bond with >= 1 person (strongly agree)     0.58154982\n",
       "strong emotional bond with >= 1 person (agree)              0.38093481\n",
       "strong emotional bond with >= 1 person (disagree)           0.03333333\n",
       "Unattached individual living alone                          0.27982780\n",
       "Unattached individual living with others                    0.03677737\n",
       "Individual living with spouse/partner                       0.28979090\n",
       "Parent living with spouse/partner and child(ren)            0.18733087\n",
       "Single parent living with children                          0.04354244\n",
       "Child living with a single parent with or without siblings  0.02361624\n",
       "Child living with two parents with or without siblings      0.09335793\n",
       "                                                           standard deviation\n",
       "satisfaction with life in general                           1.6924781        \n",
       "age                                                        19.5925424        \n",
       "female                                                      0.4983803        \n",
       "strong emotional bond with >= 1 person (strongly agree)     0.4933351        \n",
       "strong emotional bond with >= 1 person (agree)              0.4856465        \n",
       "strong emotional bond with >= 1 person (disagree)           0.1795165        \n",
       "Unattached individual living alone                          0.4489421        \n",
       "Unattached individual living with others                    0.1882263        \n",
       "Individual living with spouse/partner                       0.4536931        \n",
       "Parent living with spouse/partner and child(ren)            0.3902009        \n",
       "Single parent living with children                          0.2040873        \n",
       "Child living with a single parent with or without siblings  0.1518596        \n",
       "Child living with two parents with or without siblings      0.2909513        \n",
       "                                                           max min\n",
       "satisfaction with life in general                          10   0 \n",
       "age                                                        80  13 \n",
       "female                                                      1   0 \n",
       "strong emotional bond with >= 1 person (strongly agree)     1   0 \n",
       "strong emotional bond with >= 1 person (agree)              1   0 \n",
       "strong emotional bond with >= 1 person (disagree)           1   0 \n",
       "Unattached individual living alone                          1   0 \n",
       "Unattached individual living with others                    1   0 \n",
       "Individual living with spouse/partner                       1   0 \n",
       "Parent living with spouse/partner and child(ren)            1   0 \n",
       "Single parent living with children                          1   0 \n",
       "Child living with a single parent with or without siblings  1   0 \n",
       "Child living with two parents with or without siblings      1   0 "
      ]
     },
     "metadata": {},
     "output_type": "display_data"
    }
   ],
   "source": [
    "summary_table"
   ]
  },
  {
   "cell_type": "code",
   "execution_count": null,
   "id": "9dca3214-f35d-4d30-88e3-ce410e0e4e60",
   "metadata": {},
   "outputs": [],
   "source": []
  }
 ],
 "metadata": {
  "kernelspec": {
   "display_name": "R",
   "language": "R",
   "name": "ir"
  },
  "language_info": {
   "codemirror_mode": "r",
   "file_extension": ".r",
   "mimetype": "text/x-r-source",
   "name": "R",
   "pygments_lexer": "r",
   "version": "4.1.1"
  }
 },
 "nbformat": 4,
 "nbformat_minor": 5
}
